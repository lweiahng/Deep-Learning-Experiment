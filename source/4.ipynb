{
 "cells": [
  {
   "cell_type": "code",
   "execution_count": 5,
   "metadata": {},
   "outputs": [],
   "source": [
    "# 使用卷积神经网络识别手写数字\n",
    "import torch\n",
    "import torch.nn as nn\n",
    "from torch.autograd import Variable\n",
    "import torch.optim as optim\n",
    "import torch.nn.functional as F\n",
    "import torchvision.datasets as dsets\n",
    "import torchvision.transforms as transforms\n",
    "import matplotlib.pyplot as plt\n",
    "import numpy as np\n",
    "\n",
    "%matplotlib inline"
   ]
  },
  {
   "cell_type": "code",
   "execution_count": 6,
   "metadata": {},
   "outputs": [],
   "source": [
    "# 定义超参数\n",
    "image_size=28\n",
    "num_classes=10\n",
    "num_epochs=20\n",
    "batch_size=64"
   ]
  },
  {
   "cell_type": "code",
   "execution_count": 7,
   "metadata": {},
   "outputs": [],
   "source": [
    "# 1数据集处理\n",
    "# !wget http://labfile.oss.aliyuncs.com/course/1073/MNIST/data.zip\n",
    "# !unzip data.zip\n",
    "train_dataset=dsets.MNIST(root='./data',train=True,transform=transforms.ToTensor(),download=True)\n",
    "test_dataset=dsets.MNIST(root='./data',train=False,transform=transforms.ToTensor())\n",
    "train_loader=torch.utils.data.DataLoader(\n",
    "    dataset=train_dataset,\n",
    "    batch_size=batch_size,\n",
    "    shuffle=True\n",
    "    )"
   ]
  },
  {
   "cell_type": "code",
   "execution_count": 8,
   "metadata": {},
   "outputs": [
    {
     "name": "stdout",
     "output_type": "stream",
     "text": [
      "标签是 5\n"
     ]
    },
    {
     "data": {
      "image/png": "[encoded data removed]",
      "text/plain": [
       "<Figure size 640x480 with 1 Axes>"
      ]
     },
     "metadata": {},
     "output_type": "display_data"
    }
   ],
   "source": [
    "indices=range(len(test_dataset))\n",
    "indices_val=indices[:5000]\n",
    "indices_test=indices[5000:]\n",
    "sampler_val=torch.utils.data.SubsetRandomSampler(indices_val)\n",
    "sampler_test=torch.utils.data.SubsetRandomSampler(indices_test)\n",
    "\n",
    "# 校验数据集的加载器\n",
    "validation_loader=torch.utils.data.DataLoader(\n",
    "    dataset=test_dataset,\n",
    "    batch_size=batch_size,\n",
    "    sampler=sampler_val\n",
    ")\n",
    "# 验证数据集的加载器\n",
    "test_loader=torch.utils.data.DataLoader(\n",
    "    dataset=test_dataset,\n",
    "    batch_size=batch_size,\n",
    "    sampler=sampler_test\n",
    ")\n",
    "\n",
    "idx=100\n",
    "muteimg=train_dataset[idx][0].numpy()\n",
    "plt.imshow(muteimg[0,...],cmap='gray')\n",
    "print('标签是',train_dataset[idx][1])"
   ]
  },
  {
   "cell_type": "code",
   "execution_count": 9,
   "metadata": {},
   "outputs": [],
   "source": [
    "# 2构建基本的卷积神经网络\n",
    "# 定义类\n",
    "depth=[4,8]\n",
    "class ConvNet(nn.Module):\n",
    "    def __init__(self):\n",
    "        super(ConvNet,self).__init__()\n",
    "        # 卷积层1，1输入，4输出，5*5卷积核，padding大小为2保持输出大小\n",
    "        self.conv1=nn.Conv2d(1,4,5,padding=2)\n",
    "        # 池化层，2*2池化窗口\n",
    "        self.pool=nn.MaxPool2d(2,2)\n",
    "        # 卷积层2，4输入，8输出，5*5卷积核，padding大小为2保持输出大小\n",
    "        self.conv2=nn.Conv2d(depth[0],depth[1],5,padding=2)\n",
    "        # 线性层，输入为最后一层卷积后大小，输出512   \n",
    "        self.fc1=nn.Linear(image_size//4*image_size//4*depth[1],512)\n",
    "        # 线性层，输入512，输出10个符号的概率\n",
    "        self.fc2=nn.Linear(512,num_classes)\n",
    "\n",
    "    def forward(self,x):\n",
    "        x=F.relu(self.conv1(x))\n",
    "        x=self.pool(x)\n",
    "        x=F.relu(self.conv2(x))\n",
    "        x=self.pool(x)\n",
    "\n",
    "        #将张量铺成一维\n",
    "        x=x.view(-1,image_size//4*image_size//4*depth[1])\n",
    "        x=F.relu(self.fc1(x))\n",
    "        x=F.dropout(x,training=self.training)\n",
    "        x=self.fc2(x)#全连接\n",
    "        x=F.log_softmax(x,dim=1)\n",
    "        return x\n",
    "    \n",
    "    def retrieve_features(self,x):\n",
    "        feature_map1=F.relu(self.conv1(x))\n",
    "        x=self.pool(feature_map1)\n",
    "        feature_map2=F.relu(self.conv2(x))\n",
    "        return feature_map1,feature_map2\n",
    "\n"
   ]
  },
  {
   "cell_type": "code",
   "execution_count": 10,
   "metadata": {},
   "outputs": [],
   "source": [
    "#实例化\n",
    "net=ConvNet()\n",
    "criterion=nn.CrossEntropyLoss()\n",
    "optimizer=optim.SGD(net.parameters(),lr=0.001,momentum=0.9)"
   ]
  },
  {
   "cell_type": "code",
   "execution_count": 11,
   "metadata": {},
   "outputs": [],
   "source": [
    "def rightness(predictions,labels):\n",
    "    pred=torch.max(predictions.data,1)[1]\n",
    "    rights=pred.eq(labels.data.view_as(pred)).sum()\n",
    "    return rights,len(labels)\n",
    "\n",
    "def train_model(data,target):\n",
    "    net.train()\n",
    "    output=net(data)\n",
    "    loss=criterion(output,target)\n",
    "    optimizer.zero_grad()\n",
    "    loss.backward()\n",
    "    optimizer.step()\n",
    "    right=rightness(output,target)\n",
    "    return right,loss\n",
    "\n",
    "def evaluation_model():\n",
    "    net.eval()\n",
    "    val_rights=[]\n",
    "    for (data,target)in validation_loader:\n",
    "        data,target=Variable(data),Variable(target)\n",
    "        output=net(data)\n",
    "        right=rightness(output,target)\n",
    "        val_rights.append(right)\n",
    "\n",
    "    return val_rights\n"
   ]
  },
  {
   "cell_type": "code",
   "execution_count": 12,
   "metadata": {},
   "outputs": [
    {
     "name": "stdout",
     "output_type": "stream",
     "text": [
      "训练周期：0[0/60000(0%)]\tLoss:2.312382\t训练正确率:7.81%\t校验正确率:10.20%\n",
      "训练周期：0[6400/60000(0%)]\tLoss:2.295393\t训练正确率:10.09%\t校验正确率:13.42%\n",
      "训练周期：0[12800/60000(0%)]\tLoss:2.295008\t训练正确率:11.74%\t校验正确率:11.58%\n",
      "训练周期：0[19200/60000(0%)]\tLoss:2.302743\t训练正确率:12.87%\t校验正确率:25.68%\n",
      "训练周期：0[25600/60000(1%)]\tLoss:2.278656\t训练正确率:14.60%\t校验正确率:17.72%\n",
      "训练周期：0[32000/60000(1%)]\tLoss:2.276823\t训练正确率:16.25%\t校验正确率:36.42%\n",
      "训练周期：0[38400/60000(1%)]\tLoss:2.178660\t训练正确率:18.54%\t校验正确率:37.48%\n",
      "训练周期：0[44800/60000(1%)]\tLoss:1.961116\t训练正确率:21.72%\t校验正确率:55.72%\n",
      "训练周期：0[51200/60000(1%)]\tLoss:1.155061\t训练正确率:26.58%\t校验正确率:71.58%\n",
      "训练周期：0[57600/60000(2%)]\tLoss:0.714355\t训练正确率:31.84%\t校验正确率:79.98%\n",
      "训练周期：1[0/60000(0%)]\tLoss:0.514713\t训练正确率:84.38%\t校验正确率:82.26%\n",
      "训练周期：1[6400/60000(0%)]\tLoss:0.665957\t训练正确率:82.33%\t校验正确率:85.06%\n",
      "训练周期：1[12800/60000(0%)]\tLoss:0.404375\t训练正确率:83.83%\t校验正确率:86.20%\n",
      "训练周期：1[19200/60000(0%)]\tLoss:0.472677\t训练正确率:84.72%\t校验正确率:88.28%\n",
      "训练周期：1[25600/60000(1%)]\tLoss:0.279011\t训练正确率:85.70%\t校验正确率:89.40%\n",
      "训练周期：1[32000/60000(1%)]\tLoss:0.290153\t训练正确率:86.33%\t校验正确率:89.24%\n",
      "训练周期：1[38400/60000(1%)]\tLoss:0.287751\t训练正确率:86.96%\t校验正确率:90.66%\n",
      "训练周期：1[44800/60000(1%)]\tLoss:0.380980\t训练正确率:87.46%\t校验正确率:91.46%\n",
      "训练周期：1[51200/60000(1%)]\tLoss:0.143987\t训练正确率:87.89%\t校验正确率:91.76%\n",
      "训练周期：1[57600/60000(2%)]\tLoss:0.229992\t训练正确率:88.29%\t校验正确率:91.58%\n",
      "训练周期：2[0/60000(0%)]\tLoss:0.141314\t训练正确率:95.31%\t校验正确率:90.78%\n",
      "训练周期：2[6400/60000(0%)]\tLoss:0.225468\t训练正确率:92.73%\t校验正确率:91.90%\n",
      "训练周期：2[12800/60000(0%)]\tLoss:0.186487\t训练正确率:92.43%\t校验正确率:92.94%\n",
      "训练周期：2[19200/60000(0%)]\tLoss:0.139839\t训练正确率:92.60%\t校验正确率:93.02%\n",
      "训练周期：2[25600/60000(1%)]\tLoss:0.148689\t训练正确率:92.69%\t校验正确率:93.22%\n",
      "训练周期：2[32000/60000(1%)]\tLoss:0.193671\t训练正确率:92.78%\t校验正确率:93.62%\n",
      "训练周期：2[38400/60000(1%)]\tLoss:0.172836\t训练正确率:92.89%\t校验正确率:94.00%\n",
      "训练周期：2[44800/60000(1%)]\tLoss:0.169955\t训练正确率:92.92%\t校验正确率:94.00%\n",
      "训练周期：2[51200/60000(1%)]\tLoss:0.356401\t训练正确率:92.90%\t校验正确率:93.96%\n",
      "训练周期：2[57600/60000(2%)]\tLoss:0.231696\t训练正确率:93.02%\t校验正确率:93.96%\n",
      "训练周期：3[0/60000(0%)]\tLoss:0.204261\t训练正确率:93.75%\t校验正确率:94.04%\n",
      "训练周期：3[6400/60000(0%)]\tLoss:0.240176\t训练正确率:94.32%\t校验正确率:94.36%\n",
      "训练周期：3[12800/60000(0%)]\tLoss:0.180883\t训练正确率:94.23%\t校验正确率:94.44%\n",
      "训练周期：3[19200/60000(0%)]\tLoss:0.229715\t训练正确率:94.26%\t校验正确率:94.98%\n",
      "训练周期：3[25600/60000(1%)]\tLoss:0.152524\t训练正确率:94.23%\t校验正确率:94.70%\n",
      "训练周期：3[32000/60000(1%)]\tLoss:0.074516\t训练正确率:94.28%\t校验正确率:94.68%\n",
      "训练周期：3[38400/60000(1%)]\tLoss:0.296004\t训练正确率:94.38%\t校验正确率:94.72%\n",
      "训练周期：3[44800/60000(1%)]\tLoss:0.140953\t训练正确率:94.47%\t校验正确率:94.78%\n",
      "训练周期：3[51200/60000(1%)]\tLoss:0.229725\t训练正确率:94.48%\t校验正确率:94.98%\n",
      "训练周期：3[57600/60000(2%)]\tLoss:0.345497\t训练正确率:94.52%\t校验正确率:94.94%\n",
      "训练周期：4[0/60000(0%)]\tLoss:0.044848\t训练正确率:100.00%\t校验正确率:95.16%\n",
      "训练周期：4[6400/60000(0%)]\tLoss:0.115723\t训练正确率:95.14%\t校验正确率:95.34%\n",
      "训练周期：4[12800/60000(0%)]\tLoss:0.228996\t训练正确率:94.98%\t校验正确率:95.46%\n",
      "训练周期：4[19200/60000(0%)]\tLoss:0.143490\t训练正确率:95.33%\t校验正确率:95.42%\n",
      "训练周期：4[25600/60000(1%)]\tLoss:0.123737\t训练正确率:95.38%\t校验正确率:95.58%\n",
      "训练周期：4[32000/60000(1%)]\tLoss:0.206453\t训练正确率:95.27%\t校验正确率:95.44%\n",
      "训练周期：4[38400/60000(1%)]\tLoss:0.098484\t训练正确率:95.33%\t校验正确率:95.58%\n",
      "训练周期：4[44800/60000(1%)]\tLoss:0.047271\t训练正确率:95.32%\t校验正确率:95.68%\n",
      "训练周期：4[51200/60000(1%)]\tLoss:0.078022\t训练正确率:95.34%\t校验正确率:95.80%\n",
      "训练周期：4[57600/60000(2%)]\tLoss:0.269991\t训练正确率:95.34%\t校验正确率:95.68%\n",
      "训练周期：5[0/60000(0%)]\tLoss:0.149978\t训练正确率:93.75%\t校验正确率:95.68%\n",
      "训练周期：5[6400/60000(0%)]\tLoss:0.193439\t训练正确率:95.87%\t校验正确率:95.80%\n",
      "训练周期：5[12800/60000(0%)]\tLoss:0.188632\t训练正确率:95.80%\t校验正确率:95.86%\n",
      "训练周期：5[19200/60000(0%)]\tLoss:0.163411\t训练正确率:95.89%\t校验正确率:95.72%\n",
      "训练周期：5[25600/60000(1%)]\tLoss:0.019586\t训练正确率:95.92%\t校验正确率:95.94%\n",
      "训练周期：5[32000/60000(1%)]\tLoss:0.081253\t训练正确率:95.93%\t校验正确率:96.04%\n",
      "训练周期：5[38400/60000(1%)]\tLoss:0.219156\t训练正确率:95.90%\t校验正确率:95.80%\n",
      "训练周期：5[44800/60000(1%)]\tLoss:0.138993\t训练正确率:95.85%\t校验正确率:96.18%\n",
      "训练周期：5[51200/60000(1%)]\tLoss:0.303395\t训练正确率:95.90%\t校验正确率:96.16%\n",
      "训练周期：5[57600/60000(2%)]\tLoss:0.122891\t训练正确率:95.93%\t校验正确率:96.30%\n",
      "训练周期：6[0/60000(0%)]\tLoss:0.172229\t训练正确率:93.75%\t校验正确率:96.30%\n",
      "训练周期：6[6400/60000(0%)]\tLoss:0.180077\t训练正确率:96.16%\t校验正确率:96.20%\n",
      "训练周期：6[12800/60000(0%)]\tLoss:0.113586\t训练正确率:96.18%\t校验正确率:96.18%\n",
      "训练周期：6[19200/60000(0%)]\tLoss:0.087460\t训练正确率:96.37%\t校验正确率:96.30%\n",
      "训练周期：6[25600/60000(1%)]\tLoss:0.152113\t训练正确率:96.39%\t校验正确率:96.44%\n",
      "训练周期：6[32000/60000(1%)]\tLoss:0.175661\t训练正确率:96.32%\t校验正确率:96.32%\n",
      "训练周期：6[38400/60000(1%)]\tLoss:0.227754\t训练正确率:96.32%\t校验正确率:96.34%\n",
      "训练周期：6[44800/60000(1%)]\tLoss:0.140767\t训练正确率:96.35%\t校验正确率:96.68%\n",
      "训练周期：6[51200/60000(1%)]\tLoss:0.085587\t训练正确率:96.40%\t校验正确率:96.32%\n",
      "训练周期：6[57600/60000(2%)]\tLoss:0.393007\t训练正确率:96.41%\t校验正确率:96.46%\n",
      "训练周期：7[0/60000(0%)]\tLoss:0.136832\t训练正确率:95.31%\t校验正确率:96.38%\n",
      "训练周期：7[6400/60000(0%)]\tLoss:0.113860\t训练正确率:96.57%\t校验正确率:96.42%\n",
      "训练周期：7[12800/60000(0%)]\tLoss:0.195165\t训练正确率:96.74%\t校验正确率:96.46%\n",
      "训练周期：7[19200/60000(0%)]\tLoss:0.189702\t训练正确率:96.69%\t校验正确率:96.52%\n",
      "训练周期：7[25600/60000(1%)]\tLoss:0.027169\t训练正确率:96.60%\t校验正确率:96.82%\n",
      "训练周期：7[32000/60000(1%)]\tLoss:0.085596\t训练正确率:96.60%\t校验正确率:96.52%\n",
      "训练周期：7[38400/60000(1%)]\tLoss:0.104730\t训练正确率:96.58%\t校验正确率:96.54%\n",
      "训练周期：7[44800/60000(1%)]\tLoss:0.050709\t训练正确率:96.57%\t校验正确率:96.80%\n",
      "训练周期：7[51200/60000(1%)]\tLoss:0.085343\t训练正确率:96.57%\t校验正确率:96.58%\n",
      "训练周期：7[57600/60000(2%)]\tLoss:0.017886\t训练正确率:96.58%\t校验正确率:96.60%\n",
      "训练周期：8[0/60000(0%)]\tLoss:0.043964\t训练正确率:100.00%\t校验正确率:96.54%\n",
      "训练周期：8[6400/60000(0%)]\tLoss:0.043801\t训练正确率:97.03%\t校验正确率:96.76%\n",
      "训练周期：8[12800/60000(0%)]\tLoss:0.049280\t训练正确率:97.01%\t校验正确率:96.78%\n",
      "训练周期：8[19200/60000(0%)]\tLoss:0.122091\t训练正确率:96.95%\t校验正确率:96.90%\n",
      "训练周期：8[25600/60000(1%)]\tLoss:0.080362\t训练正确率:96.94%\t校验正确率:96.82%\n",
      "训练周期：8[32000/60000(1%)]\tLoss:0.302676\t训练正确率:96.90%\t校验正确率:96.78%\n",
      "训练周期：8[38400/60000(1%)]\tLoss:0.043694\t训练正确率:96.82%\t校验正确率:96.88%\n",
      "训练周期：8[44800/60000(1%)]\tLoss:0.113565\t训练正确率:96.82%\t校验正确率:96.92%\n",
      "训练周期：8[51200/60000(1%)]\tLoss:0.060167\t训练正确率:96.86%\t校验正确率:96.78%\n",
      "训练周期：8[57600/60000(2%)]\tLoss:0.035967\t训练正确率:96.90%\t校验正确率:96.86%\n",
      "训练周期：9[0/60000(0%)]\tLoss:0.134870\t训练正确率:95.31%\t校验正确率:96.82%\n",
      "训练周期：9[6400/60000(0%)]\tLoss:0.027709\t训练正确率:97.23%\t校验正确率:96.94%\n",
      "训练周期：9[12800/60000(0%)]\tLoss:0.062124\t训练正确率:97.16%\t校验正确率:96.90%\n",
      "训练周期：9[19200/60000(0%)]\tLoss:0.212587\t训练正确率:97.14%\t校验正确率:96.84%\n",
      "训练周期：9[25600/60000(1%)]\tLoss:0.166672\t训练正确率:97.08%\t校验正确率:96.96%\n",
      "训练周期：9[32000/60000(1%)]\tLoss:0.078009\t训练正确率:97.08%\t校验正确率:97.00%\n",
      "训练周期：9[38400/60000(1%)]\tLoss:0.137964\t训练正确率:97.03%\t校验正确率:97.28%\n",
      "训练周期：9[44800/60000(1%)]\tLoss:0.033952\t训练正确率:97.04%\t校验正确率:97.04%\n",
      "训练周期：9[51200/60000(1%)]\tLoss:0.034954\t训练正确率:97.04%\t校验正确率:96.90%\n",
      "训练周期：9[57600/60000(2%)]\tLoss:0.044404\t训练正确率:97.06%\t校验正确率:97.06%\n",
      "训练周期：10[0/60000(0%)]\tLoss:0.140247\t训练正确率:96.88%\t校验正确率:97.04%\n",
      "训练周期：10[6400/60000(0%)]\tLoss:0.152304\t训练正确率:97.54%\t校验正确率:96.90%\n",
      "训练周期：10[12800/60000(0%)]\tLoss:0.100939\t训练正确率:97.36%\t校验正确率:97.08%\n",
      "训练周期：10[19200/60000(0%)]\tLoss:0.096101\t训练正确率:97.31%\t校验正确率:96.88%\n",
      "训练周期：10[25600/60000(1%)]\tLoss:0.211797\t训练正确率:97.23%\t校验正确率:97.06%\n",
      "训练周期：10[32000/60000(1%)]\tLoss:0.087402\t训练正确率:97.22%\t校验正确率:97.00%\n",
      "训练周期：10[38400/60000(1%)]\tLoss:0.088606\t训练正确率:97.19%\t校验正确率:97.20%\n",
      "训练周期：10[44800/60000(1%)]\tLoss:0.103457\t训练正确率:97.22%\t校验正确率:97.22%\n",
      "训练周期：10[51200/60000(1%)]\tLoss:0.090182\t训练正确率:97.22%\t校验正确率:97.08%\n",
      "训练周期：10[57600/60000(2%)]\tLoss:0.077368\t训练正确率:97.20%\t校验正确率:97.24%\n",
      "训练周期：11[0/60000(0%)]\tLoss:0.104547\t训练正确率:96.88%\t校验正确率:97.12%\n",
      "训练周期：11[6400/60000(0%)]\tLoss:0.029106\t训练正确率:97.14%\t校验正确率:97.10%\n",
      "训练周期：11[12800/60000(0%)]\tLoss:0.227450\t训练正确率:97.27%\t校验正确率:97.02%\n",
      "训练周期：11[19200/60000(0%)]\tLoss:0.085664\t训练正确率:97.27%\t校验正确率:97.38%\n",
      "训练周期：11[25600/60000(1%)]\tLoss:0.022127\t训练正确率:97.37%\t校验正确率:97.12%\n",
      "训练周期：11[32000/60000(1%)]\tLoss:0.055998\t训练正确率:97.34%\t校验正确率:97.26%\n",
      "训练周期：11[38400/60000(1%)]\tLoss:0.023157\t训练正确率:97.38%\t校验正确率:97.40%\n",
      "训练周期：11[44800/60000(1%)]\tLoss:0.051556\t训练正确率:97.37%\t校验正确率:97.38%\n",
      "训练周期：11[51200/60000(1%)]\tLoss:0.135768\t训练正确率:97.40%\t校验正确率:97.14%\n",
      "训练周期：11[57600/60000(2%)]\tLoss:0.148098\t训练正确率:97.40%\t校验正确率:97.20%\n",
      "训练周期：12[0/60000(0%)]\tLoss:0.064971\t训练正确率:98.44%\t校验正确率:97.40%\n",
      "训练周期：12[6400/60000(0%)]\tLoss:0.014970\t训练正确率:97.42%\t校验正确率:97.38%\n",
      "训练周期：12[12800/60000(0%)]\tLoss:0.011819\t训练正确率:97.42%\t校验正确率:97.40%\n",
      "训练周期：12[19200/60000(0%)]\tLoss:0.159527\t训练正确率:97.49%\t校验正确率:97.22%\n",
      "训练周期：12[25600/60000(1%)]\tLoss:0.023397\t训练正确率:97.48%\t校验正确率:97.46%\n",
      "训练周期：12[32000/60000(1%)]\tLoss:0.044762\t训练正确率:97.45%\t校验正确率:97.16%\n",
      "训练周期：12[38400/60000(1%)]\tLoss:0.030304\t训练正确率:97.49%\t校验正确率:97.26%\n",
      "训练周期：12[44800/60000(1%)]\tLoss:0.080080\t训练正确率:97.47%\t校验正确率:97.30%\n",
      "训练周期：12[51200/60000(1%)]\tLoss:0.056906\t训练正确率:97.46%\t校验正确率:97.32%\n",
      "训练周期：12[57600/60000(2%)]\tLoss:0.034679\t训练正确率:97.50%\t校验正确率:97.48%\n",
      "训练周期：13[0/60000(0%)]\tLoss:0.051967\t训练正确率:98.44%\t校验正确率:97.22%\n",
      "训练周期：13[6400/60000(0%)]\tLoss:0.046037\t训练正确率:97.56%\t校验正确率:97.28%\n",
      "训练周期：13[12800/60000(0%)]\tLoss:0.051755\t训练正确率:97.61%\t校验正确率:97.36%\n",
      "训练周期：13[19200/60000(0%)]\tLoss:0.045852\t训练正确率:97.62%\t校验正确率:97.34%\n",
      "训练周期：13[25600/60000(1%)]\tLoss:0.017419\t训练正确率:97.60%\t校验正确率:97.54%\n",
      "训练周期：13[32000/60000(1%)]\tLoss:0.044238\t训练正确率:97.58%\t校验正确率:97.48%\n",
      "训练周期：13[38400/60000(1%)]\tLoss:0.162821\t训练正确率:97.53%\t校验正确率:97.56%\n",
      "训练周期：13[44800/60000(1%)]\tLoss:0.020439\t训练正确率:97.57%\t校验正确率:97.46%\n",
      "训练周期：13[51200/60000(1%)]\tLoss:0.082744\t训练正确率:97.59%\t校验正确率:97.22%\n",
      "训练周期：13[57600/60000(2%)]\tLoss:0.037316\t训练正确率:97.58%\t校验正确率:97.14%\n",
      "训练周期：14[0/60000(0%)]\tLoss:0.065224\t训练正确率:98.44%\t校验正确率:97.38%\n",
      "训练周期：14[6400/60000(0%)]\tLoss:0.010109\t训练正确率:97.94%\t校验正确率:97.24%\n",
      "训练周期：14[12800/60000(0%)]\tLoss:0.077449\t训练正确率:97.60%\t校验正确率:97.28%\n",
      "训练周期：14[19200/60000(0%)]\tLoss:0.008751\t训练正确率:97.67%\t校验正确率:97.24%\n",
      "训练周期：14[25600/60000(1%)]\tLoss:0.209667\t训练正确率:97.66%\t校验正确率:97.22%\n",
      "训练周期：14[32000/60000(1%)]\tLoss:0.043771\t训练正确率:97.70%\t校验正确率:97.34%\n",
      "训练周期：14[38400/60000(1%)]\tLoss:0.010914\t训练正确率:97.74%\t校验正确率:97.34%\n",
      "训练周期：14[44800/60000(1%)]\tLoss:0.106192\t训练正确率:97.70%\t校验正确率:97.52%\n",
      "训练周期：14[51200/60000(1%)]\tLoss:0.060357\t训练正确率:97.65%\t校验正确率:97.50%\n",
      "训练周期：14[57600/60000(2%)]\tLoss:0.102700\t训练正确率:97.69%\t校验正确率:97.48%\n",
      "训练周期：15[0/60000(0%)]\tLoss:0.098158\t训练正确率:98.44%\t校验正确率:97.54%\n",
      "训练周期：15[6400/60000(0%)]\tLoss:0.050666\t训练正确率:97.79%\t校验正确率:97.38%\n",
      "训练周期：15[12800/60000(0%)]\tLoss:0.058674\t训练正确率:97.70%\t校验正确率:97.56%\n",
      "训练周期：15[19200/60000(0%)]\tLoss:0.036066\t训练正确率:97.63%\t校验正确率:97.54%\n",
      "训练周期：15[25600/60000(1%)]\tLoss:0.156245\t训练正确率:97.59%\t校验正确率:97.52%\n",
      "训练周期：15[32000/60000(1%)]\tLoss:0.043266\t训练正确率:97.65%\t校验正确率:97.46%\n",
      "训练周期：15[38400/60000(1%)]\tLoss:0.014386\t训练正确率:97.69%\t校验正确率:97.30%\n",
      "训练周期：15[44800/60000(1%)]\tLoss:0.029607\t训练正确率:97.72%\t校验正确率:97.52%\n",
      "训练周期：15[51200/60000(1%)]\tLoss:0.031895\t训练正确率:97.78%\t校验正确率:97.58%\n",
      "训练周期：15[57600/60000(2%)]\tLoss:0.008293\t训练正确率:97.80%\t校验正确率:97.46%\n",
      "训练周期：16[0/60000(0%)]\tLoss:0.013938\t训练正确率:100.00%\t校验正确率:97.46%\n",
      "训练周期：16[6400/60000(0%)]\tLoss:0.061971\t训练正确率:97.63%\t校验正确率:97.60%\n",
      "训练周期：16[12800/60000(0%)]\tLoss:0.032870\t训练正确率:97.80%\t校验正确率:97.56%\n",
      "训练周期：16[19200/60000(0%)]\tLoss:0.006807\t训练正确率:97.87%\t校验正确率:97.68%\n",
      "训练周期：16[25600/60000(1%)]\tLoss:0.054773\t训练正确率:97.87%\t校验正确率:97.52%\n",
      "训练周期：16[32000/60000(1%)]\tLoss:0.081113\t训练正确率:97.89%\t校验正确率:97.48%\n",
      "训练周期：16[38400/60000(1%)]\tLoss:0.010320\t训练正确率:97.83%\t校验正确率:97.54%\n",
      "训练周期：16[44800/60000(1%)]\tLoss:0.061637\t训练正确率:97.85%\t校验正确率:97.62%\n",
      "训练周期：16[51200/60000(1%)]\tLoss:0.043679\t训练正确率:97.82%\t校验正确率:97.58%\n",
      "训练周期：16[57600/60000(2%)]\tLoss:0.063459\t训练正确率:97.86%\t校验正确率:97.68%\n",
      "训练周期：17[0/60000(0%)]\tLoss:0.044195\t训练正确率:98.44%\t校验正确率:97.52%\n",
      "训练周期：17[6400/60000(0%)]\tLoss:0.004769\t训练正确率:97.62%\t校验正确率:97.60%\n",
      "训练周期：17[12800/60000(0%)]\tLoss:0.149934\t训练正确率:97.74%\t校验正确率:97.52%\n",
      "训练周期：17[19200/60000(0%)]\tLoss:0.016226\t训练正确率:97.73%\t校验正确率:97.40%\n",
      "训练周期：17[25600/60000(1%)]\tLoss:0.057545\t训练正确率:97.76%\t校验正确率:97.66%\n",
      "训练周期：17[32000/60000(1%)]\tLoss:0.082944\t训练正确率:97.84%\t校验正确率:97.70%\n",
      "训练周期：17[38400/60000(1%)]\tLoss:0.045381\t训练正确率:97.84%\t校验正确率:97.66%\n",
      "训练周期：17[44800/60000(1%)]\tLoss:0.014080\t训练正确率:97.86%\t校验正确率:97.38%\n",
      "训练周期：17[51200/60000(1%)]\tLoss:0.044276\t训练正确率:97.87%\t校验正确率:97.40%\n",
      "训练周期：17[57600/60000(2%)]\tLoss:0.031048\t训练正确率:97.87%\t校验正确率:97.78%\n",
      "训练周期：18[0/60000(0%)]\tLoss:0.013201\t训练正确率:100.00%\t校验正确率:97.76%\n",
      "训练周期：18[6400/60000(0%)]\tLoss:0.011546\t训练正确率:98.10%\t校验正确率:97.68%\n",
      "训练周期：18[12800/60000(0%)]\tLoss:0.020475\t训练正确率:98.04%\t校验正确率:97.44%\n",
      "训练周期：18[19200/60000(0%)]\tLoss:0.017277\t训练正确率:98.13%\t校验正确率:97.56%\n",
      "训练周期：18[25600/60000(1%)]\tLoss:0.098000\t训练正确率:98.10%\t校验正确率:97.62%\n",
      "训练周期：18[32000/60000(1%)]\tLoss:0.031084\t训练正确率:98.07%\t校验正确率:97.68%\n",
      "训练周期：18[38400/60000(1%)]\tLoss:0.049988\t训练正确率:98.04%\t校验正确率:97.44%\n",
      "训练周期：18[44800/60000(1%)]\tLoss:0.077198\t训练正确率:98.01%\t校验正确率:97.78%\n",
      "训练周期：18[51200/60000(1%)]\tLoss:0.029337\t训练正确率:97.99%\t校验正确率:97.70%\n",
      "训练周期：18[57600/60000(2%)]\tLoss:0.011018\t训练正确率:97.98%\t校验正确率:97.48%\n",
      "训练周期：19[0/60000(0%)]\tLoss:0.061156\t训练正确率:96.88%\t校验正确率:97.58%\n",
      "训练周期：19[6400/60000(0%)]\tLoss:0.042302\t训练正确率:98.11%\t校验正确率:97.70%\n",
      "训练周期：19[12800/60000(0%)]\tLoss:0.020222\t训练正确率:98.07%\t校验正确率:97.62%\n",
      "训练周期：19[19200/60000(0%)]\tLoss:0.028328\t训练正确率:98.07%\t校验正确率:97.78%\n",
      "训练周期：19[25600/60000(1%)]\tLoss:0.025647\t训练正确率:98.01%\t校验正确率:97.62%\n",
      "训练周期：19[32000/60000(1%)]\tLoss:0.031523\t训练正确率:97.99%\t校验正确率:97.68%\n",
      "训练周期：19[38400/60000(1%)]\tLoss:0.070758\t训练正确率:98.06%\t校验正确率:97.56%\n",
      "训练周期：19[44800/60000(1%)]\tLoss:0.015198\t训练正确率:98.06%\t校验正确率:97.50%\n",
      "训练周期：19[51200/60000(1%)]\tLoss:0.166006\t训练正确率:98.07%\t校验正确率:97.72%\n",
      "训练周期：19[57600/60000(2%)]\tLoss:0.067254\t训练正确率:98.08%\t校验正确率:97.78%\n"
     ]
    }
   ],
   "source": [
    "record=[]\n",
    "weights=[]\n",
    "\n",
    "for epoch in range(num_epochs):\n",
    "    train_rights=[]\n",
    "    for batch_idx,(data,target) in enumerate(train_loader):\n",
    "        data,target=Variable(data),Variable(target)\n",
    "        right,loss=train_model(data,target)\n",
    "        train_rights.append(right)\n",
    "        if batch_idx%100==0:\n",
    "            val_rights=evaluation_model()\n",
    "            val_r=(sum([tup[0] for tup in val_rights]),sum([tup[1] for tup in val_rights]))\n",
    "            train_r=(sum([tup[0] for tup in train_rights]),sum([tup[1] for tup in train_rights]))\n",
    "\n",
    "            print('训练周期：{}[{}/{}({:.0f}%)]\\tLoss:{:.6f}\\t训练正确率:{:.2f}%\\t校验正确率:{:.2f}%'.format(\n",
    "                epoch,batch_idx*batch_size,len(train_loader.dataset),\n",
    "                100.*batch_idx/len(train_loader.dataset),loss.data,\n",
    "                100.*train_r[0].numpy()/train_r[1],\n",
    "                100.*val_r[0].numpy()/val_r[1]))\n",
    "            \n",
    "            record.append((100-100.*train_r[0]/train_r[1],100-100.*val_r[0]/val_r[1]))\n",
    "\n",
    "            weights.append(\n",
    "                [net.conv1.weight.data.clone(),net.conv1.bias.data.clone,\n",
    "                 net.conv2.weight.data.clone(),net.conv2.bias.data.clone])"
   ]
  },
  {
   "cell_type": "code",
   "execution_count": 13,
   "metadata": {},
   "outputs": [
    {
     "data": {
      "text/plain": [
       "Text(0, 0.5, 'Error rate')"
      ]
     },
     "execution_count": 13,
     "metadata": {},
     "output_type": "execute_result"
    },
    {
     "data": {
      "image/png": "[encoded data removed]",
      "text/plain": [
       "<Figure size 1000x700 with 1 Axes>"
      ]
     },
     "metadata": {},
     "output_type": "display_data"
    }
   ],
   "source": [
    "plt.figure(figsize=(10,7))\n",
    "plt.plot(record)\n",
    "plt.xlabel('Steps')\n",
    "plt.ylabel('Error rate')"
   ]
  },
  {
   "cell_type": "code",
   "execution_count": 14,
   "metadata": {},
   "outputs": [
    {
     "data": {
      "text/plain": [
       "0.9906"
      ]
     },
     "execution_count": 14,
     "metadata": {},
     "output_type": "execute_result"
    }
   ],
   "source": [
    "net.eval()\n",
    "vals=[]\n",
    "for data,target in test_loader:\n",
    "    data,target=Variable(data,requires_grad=True),Variable(target)\n",
    "    output=net(data)\n",
    "    val=rightness(output,target)\n",
    "    vals.append(val)\n",
    "\n",
    "rights=(sum([tup[0] for tup in vals]),sum([tup[1] for tup in vals]))\n",
    "rights_rate=1.0*rights[0].data.numpy()/rights[1]\n",
    "rights_rate"
   ]
  },
  {
   "cell_type": "code",
   "execution_count": 15,
   "metadata": {},
   "outputs": [
    {
     "name": "stdout",
     "output_type": "stream",
     "text": [
      "正确的标签是： 4\n",
      "模型预测结果是： [4]\n"
     ]
    },
    {
     "data": {
      "image/png": "[encoded data removed]",
      "text/plain": [
       "<Figure size 640x480 with 1 Axes>"
      ]
     },
     "metadata": {},
     "output_type": "display_data"
    }
   ],
   "source": [
    "idx=4\n",
    "muteimg=test_dataset[idx][0].numpy()\n",
    "plt.imshow(muteimg[0,...],cmap='gray')\n",
    "print('正确的标签是：',test_dataset[idx][1])\n",
    "\n",
    "test_input=torch.Tensor(muteimg).view(1,1,28,28)\n",
    "out =net(Variable(test_input))\n",
    "print('模型预测结果是：',torch.max(out,1)[1].data.numpy())"
   ]
  },
  {
   "cell_type": "code",
   "execution_count": 16,
   "metadata": {},
   "outputs": [
    {
     "data": {
      "text/plain": [
       "<bound method Module.parameters of ConvNet(\n",
       "  (conv1): Conv2d(1, 4, kernel_size=(5, 5), stride=(1, 1), padding=(2, 2))\n",
       "  (pool): MaxPool2d(kernel_size=2, stride=2, padding=0, dilation=1, ceil_mode=False)\n",
       "  (conv2): Conv2d(4, 8, kernel_size=(5, 5), stride=(1, 1), padding=(2, 2))\n",
       "  (fc1): Linear(in_features=392, out_features=512, bias=True)\n",
       "  (fc2): Linear(in_features=512, out_features=10, bias=True)\n",
       ")>"
      ]
     },
     "execution_count": 16,
     "metadata": {},
     "output_type": "execute_result"
    }
   ],
   "source": [
    "net.parameters"
   ]
  },
  {
   "cell_type": "code",
   "execution_count": 17,
   "metadata": {},
   "outputs": [
    {
     "data": {
      "image/png": "[encoded data removed]",
      "text/plain": [
       "<Figure size 1000x700 with 4 Axes>"
      ]
     },
     "metadata": {},
     "output_type": "display_data"
    }
   ],
   "source": [
    "plt.figure(figsize=(10,7))\n",
    "for i in range(4):\n",
    "    plt.subplot(1,4,i+1)\n",
    "    plt.axis('off')\n",
    "    plt.imshow(net.conv1.weight.data.numpy()[i,0,...])"
   ]
  },
  {
   "cell_type": "code",
   "execution_count": 18,
   "metadata": {},
   "outputs": [
    {
     "data": {
      "image/png": "[encoded data removed]",
      "text/plain": [
       "<Figure size 1000x700 with 4 Axes>"
      ]
     },
     "metadata": {},
     "output_type": "display_data"
    }
   ],
   "source": [
    "idx=4\n",
    "input_x=test_dataset[idx][0].unsqueeze(0)\n",
    "feature_maps=net.retrieve_features(Variable(input_x))\n",
    "plt.figure(figsize=(10,7))\n",
    "for i in range(4):\n",
    "    plt.subplot(1,4,i+1)\n",
    "    plt.axis('off')\n",
    "    plt.imshow(feature_maps[0][0,i,...].data.numpy())"
   ]
  },
  {
   "cell_type": "code",
   "execution_count": 22,
   "metadata": {},
   "outputs": [
    {
     "data": {
      "image/png": "[encoded data removed]",
      "text/plain": [
       "<Figure size 1500x1000 with 32 Axes>"
      ]
     },
     "metadata": {},
     "output_type": "display_data"
    }
   ],
   "source": [
    "plt.figure(figsize=(15,10))\n",
    "for i in range(4):\n",
    "    for j in range(8):\n",
    "        plt.subplot(4,8,i*8+j+1)\n",
    "        plt.axis('off')\n",
    "        plt.imshow(net.conv2.weight.data.numpy()[j,i,...])"
   ]
  },
  {
   "cell_type": "code",
   "execution_count": 20,
   "metadata": {},
   "outputs": [
    {
     "data": {
      "image/png": "[encoded data removed]",
      "text/plain": [
       "<Figure size 1000x700 with 8 Axes>"
      ]
     },
     "metadata": {},
     "output_type": "display_data"
    }
   ],
   "source": [
    "plt.figure(figsize=(10,7))\n",
    "for i in range(8):\n",
    "    plt.subplot(2,4,i+1)\n",
    "    plt.axis('off')\n",
    "    plt.imshow(feature_maps[1][0,i,...].data.numpy())"
   ]
  },
  {
   "cell_type": "code",
   "execution_count": 23,
   "metadata": {},
   "outputs": [
    {
     "name": "stdout",
     "output_type": "stream",
     "text": [
      "预测结果:  tensor([4])\n"
     ]
    },
    {
     "data": {
      "image/png": "[encoded data removed]",
      "text/plain": [
       "<Figure size 640x480 with 1 Axes>"
      ]
     },
     "metadata": {},
     "output_type": "display_data"
    }
   ],
   "source": [
    "a = test_dataset[idx][0][0]\n",
    "b = torch.zeros(a.size())\n",
    "w=3\n",
    "for i in range(a.size()[0]):\n",
    "    for j in range(0, a.size()[1]-w):\n",
    "        b[i,j] = a[i,j+w]\n",
    "\n",
    "muteimg = b.numpy()\n",
    "plt.axis('off')\n",
    "plt.imshow(muteimg)\n",
    "prediction = net(Variable(b.unsqueeze(0).unsqueeze(0)))\n",
    "pred = torch.max(prediction.data, 1)[1]\n",
    "print('预测结果: ', pred)\n",
    "feature_maps=net.retrieve_features(Variable(b.unsqueeze(0).unsqueeze(0)))"
   ]
  },
  {
   "cell_type": "code",
   "execution_count": 26,
   "metadata": {},
   "outputs": [
    {
     "data": {
      "image/png": "[encoded data removed]",
      "text/plain": [
       "<Figure size 1000x700 with 4 Axes>"
      ]
     },
     "metadata": {},
     "output_type": "display_data"
    }
   ],
   "source": [
    "plt.figure(figsize =(10,7))\n",
    "for i in range(4):\n",
    "    plt.subplot(1,4,i+1)\n",
    "    plt.axis('off')\n",
    "    plt.imshow(feature_maps[0][0,i,...].data.numpy())"
   ]
  },
  {
   "cell_type": "code",
   "execution_count": 27,
   "metadata": {},
   "outputs": [
    {
     "data": {
      "image/png": "[encoded data removed]",
      "text/plain": [
       "<Figure size 1000x700 with 8 Axes>"
      ]
     },
     "metadata": {},
     "output_type": "display_data"
    }
   ],
   "source": [
    "plt.figure(figsize =(10,7))\n",
    "for i in range(8):\n",
    "    plt.subplot(2,4,i+1)\n",
    "    plt.axis('off')\n",
    "\n",
    "    plt.imshow(feature_maps[1][0,i,...].data.numpy())"
   ]
  }
 ],
 "metadata": {
  "kernelspec": {
   "display_name": "base",
   "language": "python",
   "name": "python3"
  },
  "language_info": {
   "codemirror_mode": {
    "name": "ipython",
    "version": 3
   },
   "file_extension": ".py",
   "mimetype": "text/x-python",
   "name": "python",
   "nbconvert_exporter": "python",
   "pygments_lexer": "ipython3",
   "version": "3.11.7"
  }
 },
 "nbformat": 4,
 "nbformat_minor": 2
}
